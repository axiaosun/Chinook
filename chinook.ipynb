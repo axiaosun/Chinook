{
 "cells": [
  {
   "cell_type": "markdown",
   "metadata": {},
   "source": [
    "## Music Store Analysis"
   ]
  },
  {
   "cell_type": "markdown",
   "metadata": {},
   "source": [
    "Writing complex SQL queries to extract relevant, and then creating plots where necessary to visualize the data."
   ]
  },
  {
   "cell_type": "code",
   "execution_count": 1,
   "metadata": {
    "collapsed": true
   },
   "outputs": [],
   "source": [
    "import sqlite3\n",
    "import pandas as pd\n",
    "import matplotlib.pyplot as plt\n",
    "%matplotlib inline"
   ]
  },
  {
   "cell_type": "code",
   "execution_count": 2,
   "metadata": {
    "collapsed": true
   },
   "outputs": [],
   "source": [
    "def run_query(query):\n",
    "    conn = sqlite3.connect('chinook.db')\n",
    "    query = query\n",
    "    return pd.read_sql(query,conn)\n",
    "    conn.close()"
   ]
  },
  {
   "cell_type": "code",
   "execution_count": 3,
   "metadata": {
    "collapsed": true
   },
   "outputs": [],
   "source": [
    "def run_command(command):\n",
    "    with sqlite3.connect('chinook.db') as conn:\n",
    "        command = command\n",
    "        conn.isolation_level = None\n",
    "    conn.execute(command)\n",
    "    conn.close()"
   ]
  },
  {
   "cell_type": "code",
   "execution_count": 4,
   "metadata": {
    "collapsed": true
   },
   "outputs": [],
   "source": [
    "def show_tables():\n",
    "    q = \"SELECT name, type FROM sqlite_master WHERE type IN ('table', 'view')\"\n",
    "    return run_query(q)"
   ]
  },
  {
   "cell_type": "code",
   "execution_count": 5,
   "metadata": {
    "collapsed": false
   },
   "outputs": [
    {
     "name": "stdout",
     "output_type": "stream",
     "text": [
      "                    name   type\n",
      "0                  album  table\n",
      "1                 artist  table\n",
      "2               customer  table\n",
      "3               employee  table\n",
      "4                  genre  table\n",
      "5                invoice  table\n",
      "6           invoice_line  table\n",
      "7             media_type  table\n",
      "8               playlist  table\n",
      "9         playlist_track  table\n",
      "10                 track  table\n",
      "11  countries_cust_count   view\n"
     ]
    }
   ],
   "source": [
    "print(show_tables())"
   ]
  },
  {
   "cell_type": "markdown",
   "metadata": {},
   "source": [
    "## Best-selling Genres in US"
   ]
  },
  {
   "cell_type": "code",
   "execution_count": 6,
   "metadata": {
    "collapsed": false
   },
   "outputs": [
    {
     "name": "stdout",
     "output_type": "stream",
     "text": [
      "                 genre  number_of_tracks  percentage\n",
      "0                 Rock               561          53\n",
      "1   Alternative & Punk               130          12\n",
      "2                Metal               124          11\n",
      "3             R&B/Soul                53           5\n",
      "4          Alternative                35           3\n",
      "5                Blues                36           3\n",
      "6                Latin                22           2\n",
      "7                  Pop                22           2\n",
      "8       Easy Listening                13           1\n",
      "9          Hip Hop/Rap                20           1\n",
      "10                Jazz                14           1\n",
      "11           Classical                 4           0\n",
      "12   Electronica/Dance                 5           0\n",
      "13         Heavy Metal                 3           0\n",
      "14              Reggae                 6           0\n",
      "15          Soundtrack                 2           0\n",
      "16            TV Shows                 1           0\n"
     ]
    }
   ],
   "source": [
    "query = \"\"\"\n",
    "WITH tracks_genres AS\n",
    "    (\n",
    "    SELECT\n",
    "        t.track_id trackid,\n",
    "        g.name genre\n",
    "    FROM track t\n",
    "    LEFT JOIN genre g ON t.genre_id = g.genre_id\n",
    "    ),\n",
    "US_tracks AS\n",
    "    (\n",
    "    SELECT \n",
    "        il.track_id trackid\n",
    "    FROM invoice_line il\n",
    "    LEFT JOIN invoice i ON i.invoice_id = il.invoice_id\n",
    "    LEFT JOIN customer c ON c.customer_id = i.customer_id\n",
    "    WHERE c.country = \"USA\"\n",
    "    )\n",
    "SELECT \n",
    "    tg.genre,\n",
    "    COUNT(ust.trackid) number_of_tracks,\n",
    "    (COUNT(ust.trackid)*100 /(SELECT COUNT(*) FROM US_tracks ust)) percentage\n",
    "FROM US_tracks ust\n",
    "LEFT JOIN tracks_genres tg ON ust.trackid = tg.trackid\n",
    "GROUP BY 1\n",
    "ORDER BY 3 DESC;\n",
    "\"\"\"\n",
    "\n",
    "print(run_query(query))"
   ]
  },
  {
   "cell_type": "code",
   "execution_count": 7,
   "metadata": {
    "collapsed": false
   },
   "outputs": [],
   "source": [
    "genre_sales_usa = run_query(query)"
   ]
  },
  {
   "cell_type": "code",
   "execution_count": 8,
   "metadata": {
    "collapsed": false
   },
   "outputs": [
    {
     "data": {
      "text/html": [
       "<div>\n",
       "<style scoped>\n",
       "    .dataframe tbody tr th:only-of-type {\n",
       "        vertical-align: middle;\n",
       "    }\n",
       "\n",
       "    .dataframe tbody tr th {\n",
       "        vertical-align: top;\n",
       "    }\n",
       "\n",
       "    .dataframe thead th {\n",
       "        text-align: right;\n",
       "    }\n",
       "</style>\n",
       "<table border=\"1\" class=\"dataframe\">\n",
       "  <thead>\n",
       "    <tr style=\"text-align: right;\">\n",
       "      <th></th>\n",
       "      <th>number_of_tracks</th>\n",
       "      <th>percentage</th>\n",
       "    </tr>\n",
       "    <tr>\n",
       "      <th>genre</th>\n",
       "      <th></th>\n",
       "      <th></th>\n",
       "    </tr>\n",
       "  </thead>\n",
       "  <tbody>\n",
       "    <tr>\n",
       "      <th>Rock</th>\n",
       "      <td>561</td>\n",
       "      <td>53</td>\n",
       "    </tr>\n",
       "    <tr>\n",
       "      <th>Alternative &amp; Punk</th>\n",
       "      <td>130</td>\n",
       "      <td>12</td>\n",
       "    </tr>\n",
       "    <tr>\n",
       "      <th>Metal</th>\n",
       "      <td>124</td>\n",
       "      <td>11</td>\n",
       "    </tr>\n",
       "    <tr>\n",
       "      <th>R&amp;B/Soul</th>\n",
       "      <td>53</td>\n",
       "      <td>5</td>\n",
       "    </tr>\n",
       "    <tr>\n",
       "      <th>Alternative</th>\n",
       "      <td>35</td>\n",
       "      <td>3</td>\n",
       "    </tr>\n",
       "    <tr>\n",
       "      <th>Blues</th>\n",
       "      <td>36</td>\n",
       "      <td>3</td>\n",
       "    </tr>\n",
       "    <tr>\n",
       "      <th>Latin</th>\n",
       "      <td>22</td>\n",
       "      <td>2</td>\n",
       "    </tr>\n",
       "    <tr>\n",
       "      <th>Pop</th>\n",
       "      <td>22</td>\n",
       "      <td>2</td>\n",
       "    </tr>\n",
       "    <tr>\n",
       "      <th>Easy Listening</th>\n",
       "      <td>13</td>\n",
       "      <td>1</td>\n",
       "    </tr>\n",
       "    <tr>\n",
       "      <th>Hip Hop/Rap</th>\n",
       "      <td>20</td>\n",
       "      <td>1</td>\n",
       "    </tr>\n",
       "    <tr>\n",
       "      <th>Jazz</th>\n",
       "      <td>14</td>\n",
       "      <td>1</td>\n",
       "    </tr>\n",
       "    <tr>\n",
       "      <th>Classical</th>\n",
       "      <td>4</td>\n",
       "      <td>0</td>\n",
       "    </tr>\n",
       "    <tr>\n",
       "      <th>Electronica/Dance</th>\n",
       "      <td>5</td>\n",
       "      <td>0</td>\n",
       "    </tr>\n",
       "    <tr>\n",
       "      <th>Heavy Metal</th>\n",
       "      <td>3</td>\n",
       "      <td>0</td>\n",
       "    </tr>\n",
       "    <tr>\n",
       "      <th>Reggae</th>\n",
       "      <td>6</td>\n",
       "      <td>0</td>\n",
       "    </tr>\n",
       "    <tr>\n",
       "      <th>Soundtrack</th>\n",
       "      <td>2</td>\n",
       "      <td>0</td>\n",
       "    </tr>\n",
       "    <tr>\n",
       "      <th>TV Shows</th>\n",
       "      <td>1</td>\n",
       "      <td>0</td>\n",
       "    </tr>\n",
       "  </tbody>\n",
       "</table>\n",
       "</div>"
      ],
      "text/plain": [
       "                    number_of_tracks  percentage\n",
       "genre                                           \n",
       "Rock                             561          53\n",
       "Alternative & Punk               130          12\n",
       "Metal                            124          11\n",
       "R&B/Soul                          53           5\n",
       "Alternative                       35           3\n",
       "Blues                             36           3\n",
       "Latin                             22           2\n",
       "Pop                               22           2\n",
       "Easy Listening                    13           1\n",
       "Hip Hop/Rap                       20           1\n",
       "Jazz                              14           1\n",
       "Classical                          4           0\n",
       "Electronica/Dance                  5           0\n",
       "Heavy Metal                        3           0\n",
       "Reggae                             6           0\n",
       "Soundtrack                         2           0\n",
       "TV Shows                           1           0"
      ]
     },
     "execution_count": 8,
     "metadata": {},
     "output_type": "execute_result"
    }
   ],
   "source": [
    "genre_sales_usa.set_index('genre')"
   ]
  },
  {
   "cell_type": "code",
   "execution_count": 9,
   "metadata": {
    "collapsed": false
   },
   "outputs": [
    {
     "data": {
      "text/plain": [
       "<matplotlib.axes._subplots.AxesSubplot at 0x7f3b20a349b0>"
      ]
     },
     "execution_count": 9,
     "metadata": {},
     "output_type": "execute_result"
    },
    {
     "data": {
      "image/png": "[encoded data removed]",
      "text/plain": [
       "<matplotlib.figure.Figure at 0x7f3b20a13dd8>"
      ]
     },
     "metadata": {},
     "output_type": "display_data"
    }
   ],
   "source": [
    "genre_sales_usa.plot.pie(y='percentage', figsize=(5, 5))"
   ]
  },
  {
   "cell_type": "markdown",
   "metadata": {},
   "source": [
    "## Customer Support Agent Sales"
   ]
  },
  {
   "cell_type": "code",
   "execution_count": 10,
   "metadata": {
    "collapsed": false
   },
   "outputs": [
    {
     "name": "stdout",
     "output_type": "stream",
     "text": [
      "   employee_name supervisor_name supervisor_title country  total_sales\n",
      "0   Jane Peacock   Nancy Edwards    Sales Manager  Canada      1731.51\n",
      "1  Margaret Park   Nancy Edwards    Sales Manager  Canada      1584.00\n",
      "2  Steve Johnson   Nancy Edwards    Sales Manager  Canada      1393.92\n"
     ]
    }
   ],
   "source": [
    "query = \"\"\"\n",
    "WITH reps_total AS\n",
    "    (\n",
    "    SELECT \n",
    "        c.support_rep_id rep_id,\n",
    "        SUM(i.total) total_sales\n",
    "    FROM invoice i\n",
    "    LEFT JOIN customer c ON i.customer_id = c.customer_id\n",
    "    GROUP BY 1\n",
    "    )\n",
    "SELECT \n",
    "    e1.first_name||\" \"||e1.last_name employee_name,\n",
    "    e2.first_name||\" \"||e2.last_name supervisor_name,\n",
    "    e2.title supervisor_title,\n",
    "    e1.country,\n",
    "    rt.total_sales\n",
    "FROM reps_total rt\n",
    "LEFT JOIN employee e1 ON rt.rep_id = e1.employee_id\n",
    "LEFT JOIN employee e2 ON e1.reports_to = e2.employee_id\n",
    "ORDER BY 5 DESC;\n",
    "\"\"\"\n",
    "\n",
    "print(run_query(query))"
   ]
  },
  {
   "cell_type": "code",
   "execution_count": 11,
   "metadata": {
    "collapsed": false
   },
   "outputs": [],
   "source": [
    "sales_per_agent = run_query(query)"
   ]
  },
  {
   "cell_type": "code",
   "execution_count": 12,
   "metadata": {
    "collapsed": false
   },
   "outputs": [
    {
     "data": {
      "text/html": [
       "<div>\n",
       "<style scoped>\n",
       "    .dataframe tbody tr th:only-of-type {\n",
       "        vertical-align: middle;\n",
       "    }\n",
       "\n",
       "    .dataframe tbody tr th {\n",
       "        vertical-align: top;\n",
       "    }\n",
       "\n",
       "    .dataframe thead th {\n",
       "        text-align: right;\n",
       "    }\n",
       "</style>\n",
       "<table border=\"1\" class=\"dataframe\">\n",
       "  <thead>\n",
       "    <tr style=\"text-align: right;\">\n",
       "      <th></th>\n",
       "      <th>supervisor_name</th>\n",
       "      <th>supervisor_title</th>\n",
       "      <th>country</th>\n",
       "      <th>total_sales</th>\n",
       "    </tr>\n",
       "    <tr>\n",
       "      <th>employee_name</th>\n",
       "      <th></th>\n",
       "      <th></th>\n",
       "      <th></th>\n",
       "      <th></th>\n",
       "    </tr>\n",
       "  </thead>\n",
       "  <tbody>\n",
       "    <tr>\n",
       "      <th>Jane Peacock</th>\n",
       "      <td>Nancy Edwards</td>\n",
       "      <td>Sales Manager</td>\n",
       "      <td>Canada</td>\n",
       "      <td>1731.51</td>\n",
       "    </tr>\n",
       "    <tr>\n",
       "      <th>Margaret Park</th>\n",
       "      <td>Nancy Edwards</td>\n",
       "      <td>Sales Manager</td>\n",
       "      <td>Canada</td>\n",
       "      <td>1584.00</td>\n",
       "    </tr>\n",
       "    <tr>\n",
       "      <th>Steve Johnson</th>\n",
       "      <td>Nancy Edwards</td>\n",
       "      <td>Sales Manager</td>\n",
       "      <td>Canada</td>\n",
       "      <td>1393.92</td>\n",
       "    </tr>\n",
       "  </tbody>\n",
       "</table>\n",
       "</div>"
      ],
      "text/plain": [
       "              supervisor_name supervisor_title country  total_sales\n",
       "employee_name                                                      \n",
       "Jane Peacock    Nancy Edwards    Sales Manager  Canada      1731.51\n",
       "Margaret Park   Nancy Edwards    Sales Manager  Canada      1584.00\n",
       "Steve Johnson   Nancy Edwards    Sales Manager  Canada      1393.92"
      ]
     },
     "execution_count": 12,
     "metadata": {},
     "output_type": "execute_result"
    }
   ],
   "source": [
    "sales_per_agent.set_index('employee_name')"
   ]
  },
  {
   "cell_type": "markdown",
   "metadata": {},
   "source": [
    "Double-checking that there are only 3 support agents:"
   ]
  },
  {
   "cell_type": "code",
   "execution_count": 13,
   "metadata": {
    "collapsed": false
   },
   "outputs": [
    {
     "name": "stdout",
     "output_type": "stream",
     "text": [
      "   COUNT (DISTINCT support_rep_id)\n",
      "0                                3\n"
     ]
    }
   ],
   "source": [
    "query = \"SELECT COUNT (DISTINCT support_rep_id) FROM customer;\"\n",
    "print(run_query(query))"
   ]
  },
  {
   "cell_type": "code",
   "execution_count": 14,
   "metadata": {
    "collapsed": false
   },
   "outputs": [
    {
     "data": {
      "text/plain": [
       "<matplotlib.axes._subplots.AxesSubplot at 0x7f3b16ba3dd8>"
      ]
     },
     "execution_count": 14,
     "metadata": {},
     "output_type": "execute_result"
    },
    {
     "data": {
      "image/png": "[encoded data removed]",
      "text/plain": [
       "<matplotlib.figure.Figure at 0x7f3b16b38dd8>"
      ]
     },
     "metadata": {},
     "output_type": "display_data"
    }
   ],
   "source": [
    "sales_per_agent.plot.bar(x='employee_name', y='total_sales', rot=90)"
   ]
  },
  {
   "cell_type": "markdown",
   "metadata": {},
   "source": [
    "## Country Average Sales per Customer and AOV"
   ]
  },
  {
   "cell_type": "code",
   "execution_count": 15,
   "metadata": {
    "collapsed": false
   },
   "outputs": [
    {
     "ename": "OperationalError",
     "evalue": "table countries_cust_count already exists",
     "output_type": "error",
     "traceback": [
      "\u001b[1;31m\u001b[0m",
      "\u001b[1;31mOperationalError\u001b[0mTraceback (most recent call last)",
      "\u001b[1;32m<ipython-input-15-28e28e39e3f4>\u001b[0m in \u001b[0;36m<module>\u001b[1;34m()\u001b[0m\n\u001b[0;32m      7\u001b[0m     \u001b[0mGROUP\u001b[0m \u001b[0mBY\u001b[0m \u001b[1;36m1\u001b[0m\u001b[1;33m\u001b[0m\u001b[0m\n\u001b[0;32m      8\u001b[0m     ORDER BY 2 DESC;'''\n\u001b[1;32m----> 9\u001b[1;33m \u001b[0mrun_command\u001b[0m\u001b[1;33m(\u001b[0m\u001b[0mc\u001b[0m\u001b[1;33m)\u001b[0m\u001b[1;33m\u001b[0m\u001b[0m\n\u001b[0m",
      "\u001b[1;32m<ipython-input-3-89a550766b2c>\u001b[0m in \u001b[0;36mrun_command\u001b[1;34m(command)\u001b[0m\n\u001b[0;32m      3\u001b[0m         \u001b[0mcommand\u001b[0m \u001b[1;33m=\u001b[0m \u001b[0mcommand\u001b[0m\u001b[1;33m\u001b[0m\u001b[0m\n\u001b[0;32m      4\u001b[0m         \u001b[0mconn\u001b[0m\u001b[1;33m.\u001b[0m\u001b[0misolation_level\u001b[0m \u001b[1;33m=\u001b[0m \u001b[1;32mNone\u001b[0m\u001b[1;33m\u001b[0m\u001b[0m\n\u001b[1;32m----> 5\u001b[1;33m     \u001b[0mconn\u001b[0m\u001b[1;33m.\u001b[0m\u001b[0mexecute\u001b[0m\u001b[1;33m(\u001b[0m\u001b[0mcommand\u001b[0m\u001b[1;33m)\u001b[0m\u001b[1;33m\u001b[0m\u001b[0m\n\u001b[0m\u001b[0;32m      6\u001b[0m     \u001b[0mconn\u001b[0m\u001b[1;33m.\u001b[0m\u001b[0mclose\u001b[0m\u001b[1;33m(\u001b[0m\u001b[1;33m)\u001b[0m\u001b[1;33m\u001b[0m\u001b[0m\n",
      "\u001b[1;31mOperationalError\u001b[0m: table countries_cust_count already exists"
     ]
    }
   ],
   "source": [
    "c = '''\n",
    "CREATE VIEW countries_cust_count AS\n",
    "    SELECT\n",
    "        country,\n",
    "        COUNT(DISTINCT customer_id) count\n",
    "    FROM customer\n",
    "    GROUP BY 1\n",
    "    ORDER BY 2 DESC;'''\n",
    "run_command(c)"
   ]
  },
  {
   "cell_type": "code",
   "execution_count": 16,
   "metadata": {
    "collapsed": false
   },
   "outputs": [
    {
     "data": {
      "text/html": [
       "<div>\n",
       "<style scoped>\n",
       "    .dataframe tbody tr th:only-of-type {\n",
       "        vertical-align: middle;\n",
       "    }\n",
       "\n",
       "    .dataframe tbody tr th {\n",
       "        vertical-align: top;\n",
       "    }\n",
       "\n",
       "    .dataframe thead th {\n",
       "        text-align: right;\n",
       "    }\n",
       "</style>\n",
       "<table border=\"1\" class=\"dataframe\">\n",
       "  <thead>\n",
       "    <tr style=\"text-align: right;\">\n",
       "      <th></th>\n",
       "      <th>country</th>\n",
       "      <th>num_of_customers</th>\n",
       "      <th>avg_sales_per_customer</th>\n",
       "      <th>avg_order_value</th>\n",
       "    </tr>\n",
       "  </thead>\n",
       "  <tbody>\n",
       "    <tr>\n",
       "      <th>0</th>\n",
       "      <td>Czech Republic</td>\n",
       "      <td>2</td>\n",
       "      <td>136.620000</td>\n",
       "      <td>9.108000</td>\n",
       "    </tr>\n",
       "    <tr>\n",
       "      <th>1</th>\n",
       "      <td>India</td>\n",
       "      <td>2</td>\n",
       "      <td>91.575000</td>\n",
       "      <td>8.721429</td>\n",
       "    </tr>\n",
       "    <tr>\n",
       "      <th>2</th>\n",
       "      <td>Portugal</td>\n",
       "      <td>2</td>\n",
       "      <td>92.565000</td>\n",
       "      <td>6.383793</td>\n",
       "    </tr>\n",
       "    <tr>\n",
       "      <th>3</th>\n",
       "      <td>United Kingdom</td>\n",
       "      <td>3</td>\n",
       "      <td>81.840000</td>\n",
       "      <td>8.768571</td>\n",
       "    </tr>\n",
       "    <tr>\n",
       "      <th>4</th>\n",
       "      <td>Germany</td>\n",
       "      <td>4</td>\n",
       "      <td>83.655000</td>\n",
       "      <td>8.161463</td>\n",
       "    </tr>\n",
       "    <tr>\n",
       "      <th>5</th>\n",
       "      <td>Brazil</td>\n",
       "      <td>5</td>\n",
       "      <td>85.536000</td>\n",
       "      <td>7.011148</td>\n",
       "    </tr>\n",
       "    <tr>\n",
       "      <th>6</th>\n",
       "      <td>France</td>\n",
       "      <td>5</td>\n",
       "      <td>77.814000</td>\n",
       "      <td>7.781400</td>\n",
       "    </tr>\n",
       "    <tr>\n",
       "      <th>7</th>\n",
       "      <td>Canada</td>\n",
       "      <td>8</td>\n",
       "      <td>66.948750</td>\n",
       "      <td>7.047237</td>\n",
       "    </tr>\n",
       "    <tr>\n",
       "      <th>8</th>\n",
       "      <td>USA</td>\n",
       "      <td>13</td>\n",
       "      <td>80.037692</td>\n",
       "      <td>7.942672</td>\n",
       "    </tr>\n",
       "    <tr>\n",
       "      <th>9</th>\n",
       "      <td>Other</td>\n",
       "      <td>15</td>\n",
       "      <td>72.996000</td>\n",
       "      <td>7.448571</td>\n",
       "    </tr>\n",
       "  </tbody>\n",
       "</table>\n",
       "</div>"
      ],
      "text/plain": [
       "          country  num_of_customers  avg_sales_per_customer  avg_order_value\n",
       "0  Czech Republic                 2              136.620000         9.108000\n",
       "1           India                 2               91.575000         8.721429\n",
       "2        Portugal                 2               92.565000         6.383793\n",
       "3  United Kingdom                 3               81.840000         8.768571\n",
       "4         Germany                 4               83.655000         8.161463\n",
       "5          Brazil                 5               85.536000         7.011148\n",
       "6          France                 5               77.814000         7.781400\n",
       "7          Canada                 8               66.948750         7.047237\n",
       "8             USA                13               80.037692         7.942672\n",
       "9           Other                15               72.996000         7.448571"
      ]
     },
     "execution_count": 16,
     "metadata": {},
     "output_type": "execute_result"
    }
   ],
   "source": [
    "q = \"\"\"\n",
    "SELECT\n",
    "    ccc2.country_2 country,\n",
    "    COUNT(DISTINCT c.customer_id) num_of_customers,\n",
    "    SUM(i.total)/COUNT(DISTINCT c.customer_id) avg_sales_per_customer,\n",
    "    SUM(i.total)/COUNT(DISTINCT i.invoice_id) avg_order_value\n",
    "FROM invoice i\n",
    "LEFT JOIN customer c ON i.customer_id = c.customer_id\n",
    "LEFT JOIN (\n",
    "    SELECT\n",
    "    *,\n",
    "    CASE\n",
    "        WHEN ccc.count = 1 THEN \"Other\"\n",
    "        ELSE ccc.country\n",
    "    END AS country_2        \n",
    "    FROM countries_cust_count ccc)ccc2 ON ccc2.country = c.country\n",
    "GROUP BY 1\n",
    "ORDER BY 2 ASC\"\"\"\n",
    "\n",
    "run_query(q)"
   ]
  },
  {
   "cell_type": "code",
   "execution_count": 18,
   "metadata": {
    "collapsed": true
   },
   "outputs": [],
   "source": [
    "country_stats = run_query(q)"
   ]
  },
  {
   "cell_type": "code",
   "execution_count": 19,
   "metadata": {
    "collapsed": false
   },
   "outputs": [
    {
     "data": {
      "text/html": [
       "<div>\n",
       "<style scoped>\n",
       "    .dataframe tbody tr th:only-of-type {\n",
       "        vertical-align: middle;\n",
       "    }\n",
       "\n",
       "    .dataframe tbody tr th {\n",
       "        vertical-align: top;\n",
       "    }\n",
       "\n",
       "    .dataframe thead th {\n",
       "        text-align: right;\n",
       "    }\n",
       "</style>\n",
       "<table border=\"1\" class=\"dataframe\">\n",
       "  <thead>\n",
       "    <tr style=\"text-align: right;\">\n",
       "      <th></th>\n",
       "      <th>num_of_customers</th>\n",
       "      <th>avg_sales_per_customer</th>\n",
       "      <th>avg_order_value</th>\n",
       "    </tr>\n",
       "    <tr>\n",
       "      <th>country</th>\n",
       "      <th></th>\n",
       "      <th></th>\n",
       "      <th></th>\n",
       "    </tr>\n",
       "  </thead>\n",
       "  <tbody>\n",
       "    <tr>\n",
       "      <th>Czech Republic</th>\n",
       "      <td>2</td>\n",
       "      <td>136.620000</td>\n",
       "      <td>9.108000</td>\n",
       "    </tr>\n",
       "    <tr>\n",
       "      <th>India</th>\n",
       "      <td>2</td>\n",
       "      <td>91.575000</td>\n",
       "      <td>8.721429</td>\n",
       "    </tr>\n",
       "    <tr>\n",
       "      <th>Portugal</th>\n",
       "      <td>2</td>\n",
       "      <td>92.565000</td>\n",
       "      <td>6.383793</td>\n",
       "    </tr>\n",
       "    <tr>\n",
       "      <th>United Kingdom</th>\n",
       "      <td>3</td>\n",
       "      <td>81.840000</td>\n",
       "      <td>8.768571</td>\n",
       "    </tr>\n",
       "    <tr>\n",
       "      <th>Germany</th>\n",
       "      <td>4</td>\n",
       "      <td>83.655000</td>\n",
       "      <td>8.161463</td>\n",
       "    </tr>\n",
       "    <tr>\n",
       "      <th>Brazil</th>\n",
       "      <td>5</td>\n",
       "      <td>85.536000</td>\n",
       "      <td>7.011148</td>\n",
       "    </tr>\n",
       "    <tr>\n",
       "      <th>France</th>\n",
       "      <td>5</td>\n",
       "      <td>77.814000</td>\n",
       "      <td>7.781400</td>\n",
       "    </tr>\n",
       "    <tr>\n",
       "      <th>Canada</th>\n",
       "      <td>8</td>\n",
       "      <td>66.948750</td>\n",
       "      <td>7.047237</td>\n",
       "    </tr>\n",
       "    <tr>\n",
       "      <th>USA</th>\n",
       "      <td>13</td>\n",
       "      <td>80.037692</td>\n",
       "      <td>7.942672</td>\n",
       "    </tr>\n",
       "    <tr>\n",
       "      <th>Other</th>\n",
       "      <td>15</td>\n",
       "      <td>72.996000</td>\n",
       "      <td>7.448571</td>\n",
       "    </tr>\n",
       "  </tbody>\n",
       "</table>\n",
       "</div>"
      ],
      "text/plain": [
       "                num_of_customers  avg_sales_per_customer  avg_order_value\n",
       "country                                                                  \n",
       "Czech Republic                 2              136.620000         9.108000\n",
       "India                          2               91.575000         8.721429\n",
       "Portugal                       2               92.565000         6.383793\n",
       "United Kingdom                 3               81.840000         8.768571\n",
       "Germany                        4               83.655000         8.161463\n",
       "Brazil                         5               85.536000         7.011148\n",
       "France                         5               77.814000         7.781400\n",
       "Canada                         8               66.948750         7.047237\n",
       "USA                           13               80.037692         7.942672\n",
       "Other                         15               72.996000         7.448571"
      ]
     },
     "execution_count": 19,
     "metadata": {},
     "output_type": "execute_result"
    }
   ],
   "source": [
    "country_stats.set_index('country')"
   ]
  },
  {
   "cell_type": "code",
   "execution_count": 20,
   "metadata": {
    "collapsed": false
   },
   "outputs": [
    {
     "data": {
      "text/plain": [
       "<matplotlib.axes._subplots.AxesSubplot at 0x7f3b16b19a90>"
      ]
     },
     "execution_count": 20,
     "metadata": {},
     "output_type": "execute_result"
    },
    {
     "data": {
      "image/png": "[encoded data removed]",
      "text/plain": [
       "<matplotlib.figure.Figure at 0x7f3b16b53c18>"
      ]
     },
     "metadata": {},
     "output_type": "display_data"
    }
   ],
   "source": [
    "country_stats.plot.bar(x='country', y='avg_sales_per_customer', rot=90)"
   ]
  },
  {
   "cell_type": "code",
   "execution_count": 21,
   "metadata": {
    "collapsed": false
   },
   "outputs": [
    {
     "data": {
      "text/plain": [
       "<matplotlib.axes._subplots.AxesSubplot at 0x7f3b16a3d828>"
      ]
     },
     "execution_count": 21,
     "metadata": {},
     "output_type": "execute_result"
    },
    {
     "data": {
      "image/png": "[encoded data removed]",
      "text/plain": [
       "<matplotlib.figure.Figure at 0x7f3b16b38860>"
      ]
     },
     "metadata": {},
     "output_type": "display_data"
    }
   ],
   "source": [
    "country_stats.plot.bar(x='country', y='avg_order_value', rot=90)"
   ]
  },
  {
   "cell_type": "markdown",
   "metadata": {},
   "source": [
    "## Categorize Invoices"
   ]
  },
  {
   "cell_type": "code",
   "execution_count": null,
   "metadata": {
    "collapsed": true
   },
   "outputs": [],
   "source": [
    "q = \"\"\"\n",
    "SELECT\n",
    "    COUNT(DISTINCT i.invoice_id)\"\"\""
   ]
  }
 ],
 "metadata": {
  "kernelspec": {
   "display_name": "Python 3",
   "language": "python",
   "name": "python3"
  },
  "language_info": {
   "codemirror_mode": {
    "name": "ipython",
    "version": 3
   },
   "file_extension": ".py",
   "mimetype": "text/x-python",
   "name": "python",
   "nbconvert_exporter": "python",
   "pygments_lexer": "ipython3",
   "version": "3.4.3"
  }
 },
 "nbformat": 4,
 "nbformat_minor": 2
}
